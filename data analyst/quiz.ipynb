{
 "cells": [
  {
   "cell_type": "code",
   "execution_count": 15,
   "id": "91f6662a-f078-48e4-8cf7-242541bf3c1f",
   "metadata": {
    "tags": []
   },
   "outputs": [
    {
     "data": {
      "text/html": [
       "<div>\n",
       "<style scoped>\n",
       "    .dataframe tbody tr th:only-of-type {\n",
       "        vertical-align: middle;\n",
       "    }\n",
       "\n",
       "    .dataframe tbody tr th {\n",
       "        vertical-align: top;\n",
       "    }\n",
       "\n",
       "    .dataframe thead th {\n",
       "        text-align: right;\n",
       "    }\n",
       "</style>\n",
       "<table border=\"1\" class=\"dataframe\">\n",
       "  <thead>\n",
       "    <tr style=\"text-align: right;\">\n",
       "      <th></th>\n",
       "      <th>Year</th>\n",
       "      <th>Median house price</th>\n",
       "      <th>Westpac: 4 year forecast</th>\n",
       "      <th>Joe Bloggs: 2 year forecast</th>\n",
       "      <th>Harry Spent: 5 year forecast</th>\n",
       "    </tr>\n",
       "  </thead>\n",
       "  <tbody>\n",
       "    <tr>\n",
       "      <th>0</th>\n",
       "      <td>2011</td>\n",
       "      <td>340000</td>\n",
       "      <td>56%</td>\n",
       "      <td>23%</td>\n",
       "      <td>-20%</td>\n",
       "    </tr>\n",
       "    <tr>\n",
       "      <th>1</th>\n",
       "      <td>2012</td>\n",
       "      <td>370000</td>\n",
       "      <td>53%</td>\n",
       "      <td>34$</td>\n",
       "      <td>-80%</td>\n",
       "    </tr>\n",
       "    <tr>\n",
       "      <th>2</th>\n",
       "      <td>2013</td>\n",
       "      <td>350000</td>\n",
       "      <td>NaN</td>\n",
       "      <td>19%</td>\n",
       "      <td>-70%</td>\n",
       "    </tr>\n",
       "    <tr>\n",
       "      <th>3</th>\n",
       "      <td>2014</td>\n",
       "      <td>420000</td>\n",
       "      <td>13%</td>\n",
       "      <td>42%</td>\n",
       "      <td>-80%</td>\n",
       "    </tr>\n",
       "    <tr>\n",
       "      <th>4</th>\n",
       "      <td>2015</td>\n",
       "      <td>425000</td>\n",
       "      <td>33%</td>\n",
       "      <td>23%</td>\n",
       "      <td>-50%</td>\n",
       "    </tr>\n",
       "    <tr>\n",
       "      <th>5</th>\n",
       "      <td>2016</td>\n",
       "      <td>500000</td>\n",
       "      <td>-5%</td>\n",
       "      <td>15%</td>\n",
       "      <td>-90%</td>\n",
       "    </tr>\n",
       "    <tr>\n",
       "      <th>6</th>\n",
       "      <td>2017</td>\n",
       "      <td>520000</td>\n",
       "      <td>45%</td>\n",
       "      <td>1500%</td>\n",
       "      <td>-30%</td>\n",
       "    </tr>\n",
       "    <tr>\n",
       "      <th>7</th>\n",
       "      <td>2018</td>\n",
       "      <td>550000</td>\n",
       "      <td>34%</td>\n",
       "      <td>18%</td>\n",
       "      <td>NaN</td>\n",
       "    </tr>\n",
       "    <tr>\n",
       "      <th>8</th>\n",
       "      <td>2019</td>\n",
       "      <td>596000</td>\n",
       "      <td>34%</td>\n",
       "      <td>19%</td>\n",
       "      <td>-110%</td>\n",
       "    </tr>\n",
       "    <tr>\n",
       "      <th>9</th>\n",
       "      <td>2020</td>\n",
       "      <td>610000</td>\n",
       "      <td>20%</td>\n",
       "      <td>23%</td>\n",
       "      <td>-90%</td>\n",
       "    </tr>\n",
       "    <tr>\n",
       "      <th>10</th>\n",
       "      <td>2021</td>\n",
       "      <td>660000</td>\n",
       "      <td>-20%</td>\n",
       "      <td>13%</td>\n",
       "      <td>-60%</td>\n",
       "    </tr>\n",
       "    <tr>\n",
       "      <th>11</th>\n",
       "      <td>2022</td>\n",
       "      <td>720000</td>\n",
       "      <td>15%</td>\n",
       "      <td>8%</td>\n",
       "      <td>-69%</td>\n",
       "    </tr>\n",
       "    <tr>\n",
       "      <th>12</th>\n",
       "      <td>2023</td>\n",
       "      <td>73000</td>\n",
       "      <td>I5%</td>\n",
       "      <td>7%</td>\n",
       "      <td>-80%</td>\n",
       "    </tr>\n",
       "    <tr>\n",
       "      <th>13</th>\n",
       "      <td>2024</td>\n",
       "      <td>760O00</td>\n",
       "      <td>-10%</td>\n",
       "      <td>-2%</td>\n",
       "      <td>-80%</td>\n",
       "    </tr>\n",
       "  </tbody>\n",
       "</table>\n",
       "</div>"
      ],
      "text/plain": [
       "    Year Median house price Westpac: 4 year forecast  \\\n",
       "0   2011             340000                      56%   \n",
       "1   2012             370000                      53%   \n",
       "2   2013             350000                      NaN   \n",
       "3   2014             420000                      13%   \n",
       "4   2015             425000                      33%   \n",
       "5   2016             500000                      -5%   \n",
       "6   2017             520000                      45%   \n",
       "7   2018             550000                      34%   \n",
       "8   2019             596000                      34%   \n",
       "9   2020             610000                      20%   \n",
       "10  2021             660000                     -20%   \n",
       "11  2022             720000                      15%   \n",
       "12  2023              73000                      I5%   \n",
       "13  2024             760O00                     -10%   \n",
       "\n",
       "   Joe Bloggs: 2 year forecast Harry Spent: 5 year forecast  \n",
       "0                          23%                         -20%  \n",
       "1                          34$                         -80%  \n",
       "2                          19%                         -70%  \n",
       "3                          42%                         -80%  \n",
       "4                          23%                         -50%  \n",
       "5                          15%                         -90%  \n",
       "6                        1500%                         -30%  \n",
       "7                          18%                          NaN  \n",
       "8                          19%                        -110%  \n",
       "9                          23%                         -90%  \n",
       "10                         13%                         -60%  \n",
       "11                          8%                         -69%  \n",
       "12                          7%                         -80%  \n",
       "13                         -2%                         -80%  "
      ]
     },
     "execution_count": 15,
     "metadata": {},
     "output_type": "execute_result"
    }
   ],
   "source": [
    "import pandas as pd\n",
    "import matplotlib.pyplot as plt\n",
    "data = pd.read_csv(\"Quiz.csv\")\n",
    "data"
   ]
  },
  {
   "cell_type": "code",
   "execution_count": 49,
   "id": "9d3b0cf2-cf10-42ec-97bc-9e0ddd1025fb",
   "metadata": {
    "tags": []
   },
   "outputs": [],
   "source": [
    "data['Westpac: 4 year forecast'] = data['Westpac: 4 year forecast'].str.replace('%', '')"
   ]
  },
  {
   "cell_type": "code",
   "execution_count": 51,
   "id": "660e59ef-86da-4e51-8f43-7be1e20819af",
   "metadata": {
    "tags": []
   },
   "outputs": [
    {
     "name": "stderr",
     "output_type": "stream",
     "text": [
      "/var/folders/8r/698pnf093tqbv2z2mmg4pklm0000gn/T/ipykernel_6542/2786208692.py:2: FutureWarning: The default value of regex will change from True to False in a future version. In addition, single character regular expressions will *not* be treated as literal strings when regex=True.\n",
      "  data['Joe Bloggs: 2 year forecast'] = data['Joe Bloggs: 2 year forecast'].str.replace('$', '')\n"
     ]
    }
   ],
   "source": [
    "data['Joe Bloggs: 2 year forecast'] = data['Joe Bloggs: 2 year forecast'].str.replace('%', '')\n",
    "data['Joe Bloggs: 2 year forecast'] = data['Joe Bloggs: 2 year forecast'].str.replace('$', '')"
   ]
  },
  {
   "cell_type": "code",
   "execution_count": 29,
   "id": "947b6b95-6b50-41ec-84a5-877049a9c383",
   "metadata": {
    "tags": []
   },
   "outputs": [],
   "source": [
    "data['Harry Spent: 5 year forecast'] = data['Harry Spent: 5 year forecast'].str.replace('%', '')"
   ]
  },
  {
   "cell_type": "code",
   "execution_count": 31,
   "id": "b849bd60-751f-423e-a875-eb04472f92ef",
   "metadata": {
    "tags": []
   },
   "outputs": [
    {
     "data": {
      "text/html": [
       "<div>\n",
       "<style scoped>\n",
       "    .dataframe tbody tr th:only-of-type {\n",
       "        vertical-align: middle;\n",
       "    }\n",
       "\n",
       "    .dataframe tbody tr th {\n",
       "        vertical-align: top;\n",
       "    }\n",
       "\n",
       "    .dataframe thead th {\n",
       "        text-align: right;\n",
       "    }\n",
       "</style>\n",
       "<table border=\"1\" class=\"dataframe\">\n",
       "  <thead>\n",
       "    <tr style=\"text-align: right;\">\n",
       "      <th></th>\n",
       "      <th>Year</th>\n",
       "      <th>Median house price</th>\n",
       "      <th>Westpac: 4 year forecast</th>\n",
       "      <th>Joe Bloggs: 2 year forecast</th>\n",
       "      <th>Harry Spent: 5 year forecast</th>\n",
       "    </tr>\n",
       "  </thead>\n",
       "  <tbody>\n",
       "    <tr>\n",
       "      <th>0</th>\n",
       "      <td>2011</td>\n",
       "      <td>340000</td>\n",
       "      <td>56</td>\n",
       "      <td>23</td>\n",
       "      <td>-20</td>\n",
       "    </tr>\n",
       "    <tr>\n",
       "      <th>1</th>\n",
       "      <td>2012</td>\n",
       "      <td>370000</td>\n",
       "      <td>53</td>\n",
       "      <td>34</td>\n",
       "      <td>-80</td>\n",
       "    </tr>\n",
       "    <tr>\n",
       "      <th>2</th>\n",
       "      <td>2013</td>\n",
       "      <td>350000</td>\n",
       "      <td>NaN</td>\n",
       "      <td>19</td>\n",
       "      <td>-70</td>\n",
       "    </tr>\n",
       "    <tr>\n",
       "      <th>3</th>\n",
       "      <td>2014</td>\n",
       "      <td>420000</td>\n",
       "      <td>13</td>\n",
       "      <td>42</td>\n",
       "      <td>-80</td>\n",
       "    </tr>\n",
       "    <tr>\n",
       "      <th>4</th>\n",
       "      <td>2015</td>\n",
       "      <td>425000</td>\n",
       "      <td>33</td>\n",
       "      <td>23</td>\n",
       "      <td>-50</td>\n",
       "    </tr>\n",
       "    <tr>\n",
       "      <th>5</th>\n",
       "      <td>2016</td>\n",
       "      <td>500000</td>\n",
       "      <td>-5</td>\n",
       "      <td>15</td>\n",
       "      <td>-90</td>\n",
       "    </tr>\n",
       "    <tr>\n",
       "      <th>6</th>\n",
       "      <td>2017</td>\n",
       "      <td>520000</td>\n",
       "      <td>45</td>\n",
       "      <td>1500</td>\n",
       "      <td>-30</td>\n",
       "    </tr>\n",
       "    <tr>\n",
       "      <th>7</th>\n",
       "      <td>2018</td>\n",
       "      <td>550000</td>\n",
       "      <td>34</td>\n",
       "      <td>18</td>\n",
       "      <td>NaN</td>\n",
       "    </tr>\n",
       "    <tr>\n",
       "      <th>8</th>\n",
       "      <td>2019</td>\n",
       "      <td>596000</td>\n",
       "      <td>34</td>\n",
       "      <td>19</td>\n",
       "      <td>-110</td>\n",
       "    </tr>\n",
       "    <tr>\n",
       "      <th>9</th>\n",
       "      <td>2020</td>\n",
       "      <td>610000</td>\n",
       "      <td>20</td>\n",
       "      <td>23</td>\n",
       "      <td>-90</td>\n",
       "    </tr>\n",
       "    <tr>\n",
       "      <th>10</th>\n",
       "      <td>2021</td>\n",
       "      <td>660000</td>\n",
       "      <td>-20</td>\n",
       "      <td>13</td>\n",
       "      <td>-60</td>\n",
       "    </tr>\n",
       "    <tr>\n",
       "      <th>11</th>\n",
       "      <td>2022</td>\n",
       "      <td>720000</td>\n",
       "      <td>15</td>\n",
       "      <td>8</td>\n",
       "      <td>-69</td>\n",
       "    </tr>\n",
       "    <tr>\n",
       "      <th>12</th>\n",
       "      <td>2023</td>\n",
       "      <td>73000</td>\n",
       "      <td>I5</td>\n",
       "      <td>7</td>\n",
       "      <td>-80</td>\n",
       "    </tr>\n",
       "    <tr>\n",
       "      <th>13</th>\n",
       "      <td>2024</td>\n",
       "      <td>760O00</td>\n",
       "      <td>-10</td>\n",
       "      <td>-2</td>\n",
       "      <td>-80</td>\n",
       "    </tr>\n",
       "  </tbody>\n",
       "</table>\n",
       "</div>"
      ],
      "text/plain": [
       "    Year Median house price Westpac: 4 year forecast  \\\n",
       "0   2011             340000                       56   \n",
       "1   2012             370000                       53   \n",
       "2   2013             350000                      NaN   \n",
       "3   2014             420000                       13   \n",
       "4   2015             425000                       33   \n",
       "5   2016             500000                       -5   \n",
       "6   2017             520000                       45   \n",
       "7   2018             550000                       34   \n",
       "8   2019             596000                       34   \n",
       "9   2020             610000                       20   \n",
       "10  2021             660000                      -20   \n",
       "11  2022             720000                       15   \n",
       "12  2023              73000                       I5   \n",
       "13  2024             760O00                      -10   \n",
       "\n",
       "   Joe Bloggs: 2 year forecast Harry Spent: 5 year forecast  \n",
       "0                           23                          -20  \n",
       "1                           34                          -80  \n",
       "2                           19                          -70  \n",
       "3                           42                          -80  \n",
       "4                           23                          -50  \n",
       "5                           15                          -90  \n",
       "6                         1500                          -30  \n",
       "7                           18                          NaN  \n",
       "8                           19                         -110  \n",
       "9                           23                          -90  \n",
       "10                          13                          -60  \n",
       "11                           8                          -69  \n",
       "12                           7                          -80  \n",
       "13                          -2                          -80  "
      ]
     },
     "execution_count": 31,
     "metadata": {},
     "output_type": "execute_result"
    }
   ],
   "source": [
    "data"
   ]
  },
  {
   "cell_type": "code",
   "execution_count": 33,
   "id": "1761dbf1-26ed-4c48-96dc-0789a2e85107",
   "metadata": {
    "tags": []
   },
   "outputs": [
    {
     "data": {
      "text/plain": [
       "[<matplotlib.lines.Line2D at 0x13f0b1d50>]"
      ]
     },
     "execution_count": 33,
     "metadata": {},
     "output_type": "execute_result"
    },
    {
     "data": {
      "image/png": "[encoded data removed]",
      "text/plain": [
       "<Figure size 640x480 with 1 Axes>"
      ]
     },
     "metadata": {},
     "output_type": "display_data"
    }
   ],
   "source": [
    "plt.plot(data['Year'], data['Median house price'], label='Change in House Price', marker='o')"
   ]
  },
  {
   "cell_type": "markdown",
   "id": "58a63a95-1d7b-4521-a617-5665e5dd77d9",
   "metadata": {},
   "source": [
    "We can see clear straight line which suggests there exists relationship between median price and year."
   ]
  },
  {
   "cell_type": "code",
   "execution_count": 39,
   "id": "61c500c3-2d8e-4081-a85e-6b45ac8d172e",
   "metadata": {
    "tags": []
   },
   "outputs": [],
   "source": [
    "clean_data = data[0:6].dropna()"
   ]
  },
  {
   "cell_type": "code",
   "execution_count": 55,
   "id": "1a9d6b13-6d05-4f34-b49c-db443c70f86b",
   "metadata": {
    "tags": []
   },
   "outputs": [
    {
     "data": {
      "text/html": [
       "<div>\n",
       "<style scoped>\n",
       "    .dataframe tbody tr th:only-of-type {\n",
       "        vertical-align: middle;\n",
       "    }\n",
       "\n",
       "    .dataframe tbody tr th {\n",
       "        vertical-align: top;\n",
       "    }\n",
       "\n",
       "    .dataframe thead th {\n",
       "        text-align: right;\n",
       "    }\n",
       "</style>\n",
       "<table border=\"1\" class=\"dataframe\">\n",
       "  <thead>\n",
       "    <tr style=\"text-align: right;\">\n",
       "      <th></th>\n",
       "      <th>Year</th>\n",
       "      <th>Median house price</th>\n",
       "      <th>Westpac: 4 year forecast</th>\n",
       "      <th>Joe Bloggs: 2 year forecast</th>\n",
       "      <th>Harry Spent: 5 year forecast</th>\n",
       "    </tr>\n",
       "  </thead>\n",
       "  <tbody>\n",
       "    <tr>\n",
       "      <th>0</th>\n",
       "      <td>2011.0</td>\n",
       "      <td>340000.0</td>\n",
       "      <td>56.0</td>\n",
       "      <td>23.0</td>\n",
       "      <td>-20.0</td>\n",
       "    </tr>\n",
       "    <tr>\n",
       "      <th>1</th>\n",
       "      <td>2012.0</td>\n",
       "      <td>370000.0</td>\n",
       "      <td>53.0</td>\n",
       "      <td>34.0</td>\n",
       "      <td>-80.0</td>\n",
       "    </tr>\n",
       "    <tr>\n",
       "      <th>3</th>\n",
       "      <td>2014.0</td>\n",
       "      <td>420000.0</td>\n",
       "      <td>13.0</td>\n",
       "      <td>42.0</td>\n",
       "      <td>-80.0</td>\n",
       "    </tr>\n",
       "    <tr>\n",
       "      <th>4</th>\n",
       "      <td>2015.0</td>\n",
       "      <td>425000.0</td>\n",
       "      <td>33.0</td>\n",
       "      <td>23.0</td>\n",
       "      <td>-50.0</td>\n",
       "    </tr>\n",
       "    <tr>\n",
       "      <th>5</th>\n",
       "      <td>2016.0</td>\n",
       "      <td>500000.0</td>\n",
       "      <td>-5.0</td>\n",
       "      <td>15.0</td>\n",
       "      <td>-90.0</td>\n",
       "    </tr>\n",
       "  </tbody>\n",
       "</table>\n",
       "</div>"
      ],
      "text/plain": [
       "     Year  Median house price  Westpac: 4 year forecast  \\\n",
       "0  2011.0            340000.0                      56.0   \n",
       "1  2012.0            370000.0                      53.0   \n",
       "3  2014.0            420000.0                      13.0   \n",
       "4  2015.0            425000.0                      33.0   \n",
       "5  2016.0            500000.0                      -5.0   \n",
       "\n",
       "   Joe Bloggs: 2 year forecast  Harry Spent: 5 year forecast  \n",
       "0                         23.0                         -20.0  \n",
       "1                         34.0                         -80.0  \n",
       "3                         42.0                         -80.0  \n",
       "4                         23.0                         -50.0  \n",
       "5                         15.0                         -90.0  "
      ]
     },
     "execution_count": 55,
     "metadata": {},
     "output_type": "execute_result"
    }
   ],
   "source": [
    "clean_data.astype(float)"
   ]
  },
  {
   "cell_type": "code",
   "execution_count": 57,
   "id": "23ff033e-7371-4ce5-816e-5bfbaea968f9",
   "metadata": {
    "tags": []
   },
   "outputs": [
    {
     "data": {
      "text/plain": [
       "[<matplotlib.lines.Line2D at 0x13f456750>]"
      ]
     },
     "execution_count": 57,
     "metadata": {},
     "output_type": "execute_result"
    },
    {
     "data": {
      "image/png": "[encoded data removed]",
      "text/plain": [
       "<Figure size 640x480 with 1 Axes>"
      ]
     },
     "metadata": {},
     "output_type": "display_data"
    }
   ],
   "source": [
    "plt.plot(clean_data['Year'], clean_data['Westpac: 4 year forecast'], label='West Pac Forecast', marker='o')"
   ]
  },
  {
   "cell_type": "code",
   "execution_count": 59,
   "id": "6da7704a-2b18-4e9a-b0b7-da64c1d0b5cb",
   "metadata": {
    "tags": []
   },
   "outputs": [
    {
     "data": {
      "text/plain": [
       "[<matplotlib.lines.Line2D at 0x13f0e76d0>]"
      ]
     },
     "execution_count": 59,
     "metadata": {},
     "output_type": "execute_result"
    },
    {
     "data": {
      "image/png": "[encoded data removed]",
      "text/plain": [
       "<Figure size 640x480 with 1 Axes>"
      ]
     },
     "metadata": {},
     "output_type": "display_data"
    }
   ],
   "source": [
    "plt.plot(clean_data['Year'], clean_data['Joe Bloggs: 2 year forecast'], label='Joe Bloggs Forecast', marker='o')"
   ]
  },
  {
   "cell_type": "code",
   "execution_count": 74,
   "id": "b196c822-4f24-4f22-b82c-3340c34c16cd",
   "metadata": {
    "tags": []
   },
   "outputs": [
    {
     "name": "stderr",
     "output_type": "stream",
     "text": [
      "/Users/pramodkc/anaconda3/lib/python3.11/site-packages/sklearn/base.py:464: UserWarning: X does not have valid feature names, but LinearRegression was fitted with feature names\n",
      "  warnings.warn(\n"
     ]
    }
   ],
   "source": [
    "from sklearn.linear_model import LinearRegression\n",
    "import numpy as np\n",
    "\n",
    "X = clean_data[[\"Year\"]]\n",
    "y = clean_data[\"Median house price\"]\n",
    "model = LinearRegression()\n",
    "model.fit(X, y)\n",
    "year_to_predict = np.array([[2017]])\n",
    "predicted_price = model.predict(year_to_predict)[0]"
   ]
  },
  {
   "cell_type": "code",
   "execution_count": 76,
   "id": "df099a80-6272-42b5-88da-7a6ce42de14c",
   "metadata": {
    "tags": []
   },
   "outputs": [
    {
     "data": {
      "text/plain": [
       "507267.4418604672"
      ]
     },
     "execution_count": 76,
     "metadata": {},
     "output_type": "execute_result"
    }
   ],
   "source": [
    "predicted_price"
   ]
  },
  {
   "cell_type": "code",
   "execution_count": null,
   "id": "e2d9b284-5ee1-4a86-808e-1922a812d9c7",
   "metadata": {},
   "outputs": [],
   "source": []
  }
 ],
 "metadata": {
  "kernelspec": {
   "display_name": "Python 3 (ipykernel)",
   "language": "python",
   "name": "python3"
  },
  "language_info": {
   "codemirror_mode": {
    "name": "ipython",
    "version": 3
   },
   "file_extension": ".py",
   "mimetype": "text/x-python",
   "name": "python",
   "nbconvert_exporter": "python",
   "pygments_lexer": "ipython3",
   "version": "3.11.4"
  }
 },
 "nbformat": 4,
 "nbformat_minor": 5
}
